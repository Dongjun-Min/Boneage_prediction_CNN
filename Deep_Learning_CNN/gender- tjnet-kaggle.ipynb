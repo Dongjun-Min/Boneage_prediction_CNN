{
 "cells": [
  {
   "cell_type": "code",
   "execution_count": 1,
   "metadata": {},
   "outputs": [],
   "source": [
    "import cv2\n",
    "import pandas as pd\n",
    "import numpy as np\n",
    "import matplotlib.pyplot as plt\n",
    "import tensorflow as tf\n",
    "\n",
    "%matplotlib inline\n",
    "def show(img):   \n",
    "    cv2.imshow('img',img)\n",
    "    cv2.waitKey(0)\n",
    "    cv2.destroyAllWindows()\n",
    "\n",
    "import matplotlib.pyplot as plt\n",
    "%matplotlib inline\n",
    "\n",
    "plt.style.use('dark_background')\n"
   ]
  },
  {
   "cell_type": "code",
   "execution_count": 19,
   "metadata": {},
   "outputs": [],
   "source": [
    "# df, img 불러오고 model화 시키기 전 전처리과정\n",
    "img_size = 251\n",
    "model_weight = \"tjnet_kaggle.h5\"\n",
    "\n",
    "df_path = \"..\"\n",
    "img_path = \"../boneage-training-dataset/boneage-training-dataset\"\n",
    "\n",
    "\n",
    "df = pd.read_csv(df_path+\"/boneage-training-dataset.csv\")\n",
    "l = len(df)\n",
    "\n",
    "file_name = np.array([f\"{df.id[i]}.png\" for i in range(l)])\n",
    "\n",
    "# df['boneage'] = df.BA*12\n",
    "ba_mean = df.boneage.mean()\n",
    "ba_std = df.boneage.std()\n",
    "df[\"BA_z\"] = (df.boneage-ba_mean)/ba_std\n",
    "df[\"filename\"] = file_name\n",
    "df[\"gender\"] = df[\"male\"]*1\n",
    "\n",
    "from sklearn.model_selection import train_test_split\n",
    "\n",
    "train_df, val_df = train_test_split(df, test_size = 0.2, random_state = 0)"
   ]
  },
  {
   "cell_type": "code",
   "execution_count": 16,
   "metadata": {},
   "outputs": [
    {
     "data": {
      "text/plain": [
       "'../boneage-training-dataset/boneage-training-dataset/1377.jpg'"
      ]
     },
     "execution_count": 16,
     "metadata": {},
     "output_type": "execute_result"
    }
   ],
   "source": [
    "img_path+\"/\"+file_name[0]"
   ]
  },
  {
   "cell_type": "code",
   "execution_count": 15,
   "metadata": {},
   "outputs": [],
   "source": [
    "cv2.imread()"
   ]
  },
  {
   "cell_type": "code",
   "execution_count": 8,
   "metadata": {},
   "outputs": [],
   "source": [
    "def multi_generator(df):\n",
    "    gender_in = np.array(df.gender)\n",
    "    img_in = []\n",
    "    age = np.array(df.BA_z)\n",
    "    \n",
    "    for file_path in df.filename:\n",
    "        img = cv2.imread(img_path+'/'+file_path)\n",
    "        small = cv2.resize(img, (img_size,img_size),cv2.INTER_AREA)\n",
    "        img_in.append(small)\n",
    "        \n",
    "    img_in = np.array(img_in)\n",
    "        \n",
    "    \n",
    "    return [gender_in,img_in],age"
   ]
  },
  {
   "cell_type": "code",
   "execution_count": 9,
   "metadata": {},
   "outputs": [],
   "source": [
    "# process시각화 및 손실함수\n",
    "\n",
    "def plot_it(history):\n",
    "    '''function to plot training and validation error'''\n",
    "    fig, ax = plt.subplots( figsize=(20,10))\n",
    "    ax.plot(history.history['mae_in_months'])\n",
    "    ax.plot(history.history['val_mae_in_months'])\n",
    "    plt.title('Model Error')\n",
    "    plt.ylabel('error')\n",
    "    plt.xlabel('Epoch')\n",
    "    plt.legend(['Train', 'Val'], loc='upper right')\n",
    "    ax.grid(color='black')\n",
    "    plt.show()\n",
    "\n",
    "from tensorflow.keras.metrics import mean_absolute_error\n",
    "\n",
    "def mae_in_months(x_p, y_p):\n",
    "    '''function to return mae in months'''\n",
    "    return mean_absolute_error((ba_std*x_p + ba_mean), (ba_std*y_p + ba_mean)) "
   ]
  },
  {
   "cell_type": "code",
   "execution_count": 10,
   "metadata": {},
   "outputs": [],
   "source": [
    "from tensorflow.keras.models import *\n",
    "from tensorflow.keras.layers import *\n",
    "from tensorflow.keras.optimizers import *\n",
    "from tensorflow.keras.callbacks import *\n"
   ]
  },
  {
   "cell_type": "code",
   "execution_count": null,
   "metadata": {},
   "outputs": [],
   "source": []
  },
  {
   "cell_type": "code",
   "execution_count": 11,
   "metadata": {},
   "outputs": [],
   "source": [
    "i_input = Input(shape = (img_size,img_size,3))\n",
    "#block 1\n",
    "conv1 = Conv2D(32,3,activation = 'relu')(i_input)\n",
    "conv2 = Conv2D(32,3,activation = 'relu')(conv1)\n",
    "conv3 = Conv2D(64,3,activation = 'relu',padding='same')(conv2)\n",
    "pool1 = MaxPool2D(pool_size=(2,2))(conv3)\n",
    "#block 2\n",
    "conv4 = Conv2D(60,1,activation = 'relu')(pool1)\n",
    "conv5 = Conv2D(192,3,activation = 'relu')(conv4)\n",
    "pool2 = MaxPool2D(pool_size=(2,2))(conv5)\n",
    "#block 3\n",
    "conv6 = Conv2D(512,3,activation = 'relu')(pool2)\n",
    "pool3 = MaxPool2D(pool_size=(2,2))(conv6)\n",
    "#block 4\n",
    "conv7 = Conv2D(1024,3,activation = 'relu',padding='same')(pool3)\n",
    "pool4 = MaxPool2D(pool_size=(2,2))(conv7)\n",
    "#block 5\n",
    "conv8 = Conv2D(2048,3,activation = 'relu')(pool4)\n",
    "conv9 = Conv2D(2048,5,activation = 'relu')(conv8)\n",
    "pool5 = AveragePooling2D(pool_size=(8,8))(conv9)\n",
    "#flat\n",
    "i_output = Flatten()( pool5)\n",
    "# i_output = Dense(1024)(flat)\n",
    "\n",
    "i_model = Model(inputs = i_input, outputs = i_output)\n"
   ]
  },
  {
   "cell_type": "code",
   "execution_count": 12,
   "metadata": {},
   "outputs": [],
   "source": [
    "g_input = Input(shape = (1,))\n",
    "g_output = Dense(64,activation = 'relu')(g_input)\n",
    "\n",
    "g_model = Model(inputs = g_input,outputs = g_output)\n",
    "\n",
    "\n",
    "\n",
    "\n",
    "con = concatenate([g_model.output, i_model.output])\n",
    "dense1 = Dense(1024,activation='relu')(con)\n",
    "# batch = BatchNormalization()(dense1)\n",
    "# drop = Dropout(0.5)(dense1)\n",
    "dense2 = Dense(512,activation='relu')(dense1)\n",
    "# dense3 = Dense(10,activation='softmax')(dense2)\n",
    "model_out = Dense(1,activation = \"linear\")(dense2)\n",
    "\n",
    "model = Model([g_input,i_input],model_out)\n",
    "model.compile(loss ='mse', optimizer= 'adam', metrics = [mae_in_months] )"
   ]
  },
  {
   "cell_type": "code",
   "execution_count": 13,
   "metadata": {
    "collapsed": true
   },
   "outputs": [
    {
     "name": "stdout",
     "output_type": "stream",
     "text": [
      "Model: \"model_2\"\n",
      "__________________________________________________________________________________________________\n",
      "Layer (type)                    Output Shape         Param #     Connected to                     \n",
      "==================================================================================================\n",
      "input_1 (InputLayer)            [(None, 251, 251, 3) 0                                            \n",
      "__________________________________________________________________________________________________\n",
      "conv2d (Conv2D)                 (None, 249, 249, 32) 896         input_1[0][0]                    \n",
      "__________________________________________________________________________________________________\n",
      "conv2d_1 (Conv2D)               (None, 247, 247, 32) 9248        conv2d[0][0]                     \n",
      "__________________________________________________________________________________________________\n",
      "conv2d_2 (Conv2D)               (None, 247, 247, 64) 18496       conv2d_1[0][0]                   \n",
      "__________________________________________________________________________________________________\n",
      "max_pooling2d (MaxPooling2D)    (None, 123, 123, 64) 0           conv2d_2[0][0]                   \n",
      "__________________________________________________________________________________________________\n",
      "conv2d_3 (Conv2D)               (None, 123, 123, 60) 3900        max_pooling2d[0][0]              \n",
      "__________________________________________________________________________________________________\n",
      "conv2d_4 (Conv2D)               (None, 121, 121, 192 103872      conv2d_3[0][0]                   \n",
      "__________________________________________________________________________________________________\n",
      "max_pooling2d_1 (MaxPooling2D)  (None, 60, 60, 192)  0           conv2d_4[0][0]                   \n",
      "__________________________________________________________________________________________________\n",
      "conv2d_5 (Conv2D)               (None, 58, 58, 512)  885248      max_pooling2d_1[0][0]            \n",
      "__________________________________________________________________________________________________\n",
      "max_pooling2d_2 (MaxPooling2D)  (None, 29, 29, 512)  0           conv2d_5[0][0]                   \n",
      "__________________________________________________________________________________________________\n",
      "conv2d_6 (Conv2D)               (None, 29, 29, 1024) 4719616     max_pooling2d_2[0][0]            \n",
      "__________________________________________________________________________________________________\n",
      "max_pooling2d_3 (MaxPooling2D)  (None, 14, 14, 1024) 0           conv2d_6[0][0]                   \n",
      "__________________________________________________________________________________________________\n",
      "conv2d_7 (Conv2D)               (None, 12, 12, 2048) 18876416    max_pooling2d_3[0][0]            \n",
      "__________________________________________________________________________________________________\n",
      "conv2d_8 (Conv2D)               (None, 8, 8, 2048)   104859648   conv2d_7[0][0]                   \n",
      "__________________________________________________________________________________________________\n",
      "input_2 (InputLayer)            [(None, 1)]          0                                            \n",
      "__________________________________________________________________________________________________\n",
      "average_pooling2d (AveragePooli (None, 1, 1, 2048)   0           conv2d_8[0][0]                   \n",
      "__________________________________________________________________________________________________\n",
      "dense (Dense)                   (None, 64)           128         input_2[0][0]                    \n",
      "__________________________________________________________________________________________________\n",
      "flatten (Flatten)               (None, 2048)         0           average_pooling2d[0][0]          \n",
      "__________________________________________________________________________________________________\n",
      "concatenate (Concatenate)       (None, 2112)         0           dense[0][0]                      \n",
      "                                                                 flatten[0][0]                    \n",
      "__________________________________________________________________________________________________\n",
      "dense_1 (Dense)                 (None, 1024)         2163712     concatenate[0][0]                \n",
      "__________________________________________________________________________________________________\n",
      "dense_2 (Dense)                 (None, 512)          524800      dense_1[0][0]                    \n",
      "__________________________________________________________________________________________________\n",
      "dense_3 (Dense)                 (None, 1)            513         dense_2[0][0]                    \n",
      "==================================================================================================\n",
      "Total params: 132,166,493\n",
      "Trainable params: 132,166,493\n",
      "Non-trainable params: 0\n",
      "__________________________________________________________________________________________________\n"
     ]
    }
   ],
   "source": [
    "model.summary()"
   ]
  },
  {
   "cell_type": "code",
   "execution_count": 14,
   "metadata": {},
   "outputs": [],
   "source": [
    "train_X,train_y = multi_generator(train_df)\n",
    "val_X, val_y = multi_generator(val_df)"
   ]
  },
  {
   "cell_type": "code",
   "execution_count": 17,
   "metadata": {},
   "outputs": [],
   "source": [
    "\n",
    "for i in range(len(df)):\n",
    "    small = cv2.resize(imgs[i],(512,512),interpolation=cv2.INTER_AREA)\n",
    "    cv2.imwrite(\"../small_kaggle/{df.id[i]}.jpg\",small)"
   ]
  },
  {
   "cell_type": "code",
   "execution_count": 20,
   "metadata": {},
   "outputs": [
    {
     "name": "stdout",
     "output_type": "stream",
     "text": [
      "Epoch 1/20\n",
      "316/316 [==============================] - 89s 281ms/step - loss: 0.0884 - mae_in_months: 9.4854 - val_loss: 0.1710 - val_mae_in_months: 12.5540\n",
      "Epoch 2/20\n",
      "316/316 [==============================] - 91s 289ms/step - loss: 0.0799 - mae_in_months: 9.0411 - val_loss: 0.1456 - val_mae_in_months: 11.6636\n",
      "Epoch 3/20\n",
      "316/316 [==============================] - 92s 291ms/step - loss: 0.0677 - mae_in_months: 8.3882 - val_loss: 0.1444 - val_mae_in_months: 11.3301\n",
      "Epoch 4/20\n",
      "316/316 [==============================] - 85s 268ms/step - loss: 0.0628 - mae_in_months: 8.0321 - val_loss: 0.1571 - val_mae_in_months: 12.1802\n",
      "Epoch 5/20\n",
      "316/316 [==============================] - 85s 268ms/step - loss: 0.0585 - mae_in_months: 7.7982 - val_loss: 0.1462 - val_mae_in_months: 11.4194\n",
      "Epoch 6/20\n",
      "316/316 [==============================] - 85s 268ms/step - loss: 0.0546 - mae_in_months: 7.5651 - val_loss: 0.1579 - val_mae_in_months: 11.9606\n",
      "Epoch 7/20\n",
      "316/316 [==============================] - 85s 268ms/step - loss: 0.0446 - mae_in_months: 6.8236 - val_loss: 0.1501 - val_mae_in_months: 11.7398\n",
      "Epoch 8/20\n",
      "316/316 [==============================] - 85s 268ms/step - loss: 0.0454 - mae_in_months: 6.8787 - val_loss: 0.1542 - val_mae_in_months: 11.8696\n",
      "Epoch 9/20\n",
      "316/316 [==============================] - 85s 268ms/step - loss: 0.0411 - mae_in_months: 6.5475 - val_loss: 0.1605 - val_mae_in_months: 12.2362\n",
      "Epoch 10/20\n",
      "316/316 [==============================] - 85s 269ms/step - loss: 0.0356 - mae_in_months: 6.0953 - val_loss: 0.1449 - val_mae_in_months: 11.4133\n",
      "Epoch 11/20\n",
      "316/316 [==============================] - 92s 291ms/step - loss: 0.0314 - mae_in_months: 5.6829 - val_loss: 0.1385 - val_mae_in_months: 11.1669\n",
      "Epoch 12/20\n",
      "316/316 [==============================] - 85s 268ms/step - loss: 0.0301 - mae_in_months: 5.5660 - val_loss: 0.1768 - val_mae_in_months: 12.3272\n",
      "Epoch 13/20\n",
      "316/316 [==============================] - 85s 269ms/step - loss: 0.0309 - mae_in_months: 5.6219 - val_loss: 0.1604 - val_mae_in_months: 12.3267\n",
      "Epoch 14/20\n",
      "316/316 [==============================] - 85s 268ms/step - loss: 0.0252 - mae_in_months: 5.0894 - val_loss: 0.1405 - val_mae_in_months: 11.2666\n",
      "Epoch 15/20\n",
      "316/316 [==============================] - 85s 268ms/step - loss: 0.0250 - mae_in_months: 5.0708 - val_loss: 0.1415 - val_mae_in_months: 11.2666\n",
      "Epoch 16/20\n",
      "316/316 [==============================] - 91s 288ms/step - loss: 0.0252 - mae_in_months: 5.0711 - val_loss: 0.1352 - val_mae_in_months: 11.1497\n",
      "Epoch 17/20\n",
      "316/316 [==============================] - 85s 268ms/step - loss: 0.0227 - mae_in_months: 4.8383 - val_loss: 0.1363 - val_mae_in_months: 11.2445\n",
      "Epoch 18/20\n",
      "316/316 [==============================] - 85s 268ms/step - loss: 0.0282 - mae_in_months: 5.2352 - val_loss: 0.1657 - val_mae_in_months: 12.6119\n",
      "Epoch 19/20\n",
      "316/316 [==============================] - 85s 268ms/step - loss: 0.0313 - mae_in_months: 5.6151 - val_loss: 0.1360 - val_mae_in_months: 11.1340\n",
      "Epoch 20/20\n",
      "316/316 [==============================] - 85s 268ms/step - loss: 0.0221 - mae_in_months: 4.7384 - val_loss: 0.1775 - val_mae_in_months: 12.7217\n"
     ]
    },
    {
     "data": {
      "image/png": "[encoded data removed]",
      "text/plain": [
       "<Figure size 1440x720 with 1 Axes>"
      ]
     },
     "metadata": {},
     "output_type": "display_data"
    }
   ],
   "source": [
    "# 모델 fit\n",
    "\n",
    "epochs = 20\n",
    "#early stopping\n",
    "early_stopping = EarlyStopping(monitor='val_loss',\n",
    "                              min_delta=0,\n",
    "                              patience= 10,\n",
    "                              verbose=0, mode='auto')\n",
    "\n",
    "mc = ModelCheckpoint(model_weight, monitor='val_loss', mode='min', save_best_only=True)\n",
    "\n",
    "\n",
    "callbacks = [early_stopping,mc]\n",
    "\n",
    "\n",
    "#fit model\n",
    "history = model.fit(train_X,train_y,\n",
    "                    validation_data = (val_X,val_y),\n",
    "                    epochs = epochs,\n",
    "                    callbacks= callbacks)\n",
    "plot_it(history)"
   ]
  },
  {
   "cell_type": "code",
   "execution_count": 21,
   "metadata": {},
   "outputs": [],
   "source": [
    "model.load_weights(model_weight)"
   ]
  },
  {
   "cell_type": "code",
   "execution_count": 22,
   "metadata": {},
   "outputs": [
    {
     "name": "stdout",
     "output_type": "stream",
     "text": [
      "79/79 [==============================] - 7s 82ms/step - loss: 0.1352 - mae_in_months: 11.1497\n",
      "mae_year : 0.9291458129882812, mse : 0.01126478984951973,r2_score : 0.8700702230499666\n"
     ]
    }
   ],
   "source": [
    "pred = model.predict(val_X)*ba_std+ba_mean\n",
    "mse, mae = model.evaluate(val_X,val_y)\n",
    "\n",
    "from sklearn.metrics import r2_score\n",
    "r2 = r2_score(val_df.boneage,pred)\n",
    "print(f\"mae_year : {mae/12}, mse : {mse/12},r2_score : {r2}\" )"
   ]
  },
  {
   "cell_type": "code",
   "execution_count": 23,
   "metadata": {},
   "outputs": [
    {
     "data": {
      "text/plain": [
       "(0.928260007927071, 0.9291458434796519)"
      ]
     },
     "execution_count": 23,
     "metadata": {},
     "output_type": "execute_result"
    }
   ],
   "source": [
    "from sklearn.metrics import mean_absolute_error\n",
    "v = val_y*ba_std+ba_mean\n",
    "mean_absolute_error(np.round(pred),v)/12,mean_absolute_error(pred,v)/12"
   ]
  },
  {
   "cell_type": "code",
   "execution_count": 24,
   "metadata": {},
   "outputs": [
    {
     "data": {
      "text/html": [
       "<div>\n",
       "<style scoped>\n",
       "    .dataframe tbody tr th:only-of-type {\n",
       "        vertical-align: middle;\n",
       "    }\n",
       "\n",
       "    .dataframe tbody tr th {\n",
       "        vertical-align: top;\n",
       "    }\n",
       "\n",
       "    .dataframe thead th {\n",
       "        text-align: right;\n",
       "    }\n",
       "</style>\n",
       "<table border=\"1\" class=\"dataframe\">\n",
       "  <thead>\n",
       "    <tr style=\"text-align: right;\">\n",
       "      <th></th>\n",
       "      <th>model</th>\n",
       "      <th>mae</th>\n",
       "      <th>mse</th>\n",
       "      <th>r2_score</th>\n",
       "      <th>roi</th>\n",
       "      <th>class</th>\n",
       "    </tr>\n",
       "  </thead>\n",
       "  <tbody>\n",
       "    <tr>\n",
       "      <th>0</th>\n",
       "      <td>xception++</td>\n",
       "      <td>1.540548</td>\n",
       "      <td>17.096090</td>\n",
       "      <td>-180.695600</td>\n",
       "      <td>False</td>\n",
       "      <td>False</td>\n",
       "    </tr>\n",
       "    <tr>\n",
       "      <th>1</th>\n",
       "      <td>vgg-ba</td>\n",
       "      <td>1.160614</td>\n",
       "      <td>0.073136</td>\n",
       "      <td>-0.303073</td>\n",
       "      <td>False</td>\n",
       "      <td>False</td>\n",
       "    </tr>\n",
       "    <tr>\n",
       "      <th>2</th>\n",
       "      <td>vgg-ba</td>\n",
       "      <td>0.670392</td>\n",
       "      <td>0.025254</td>\n",
       "      <td>-0.570250</td>\n",
       "      <td>True</td>\n",
       "      <td>False</td>\n",
       "    </tr>\n",
       "    <tr>\n",
       "      <th>3</th>\n",
       "      <td>xception++</td>\n",
       "      <td>0.557815</td>\n",
       "      <td>0.016407</td>\n",
       "      <td>-0.361841</td>\n",
       "      <td>True</td>\n",
       "      <td>False</td>\n",
       "    </tr>\n",
       "    <tr>\n",
       "      <th>4</th>\n",
       "      <td>pre xception++</td>\n",
       "      <td>0.639215</td>\n",
       "      <td>0.022091</td>\n",
       "      <td>-1.055396</td>\n",
       "      <td>True</td>\n",
       "      <td>False</td>\n",
       "    </tr>\n",
       "    <tr>\n",
       "      <th>5</th>\n",
       "      <td>xception+gender</td>\n",
       "      <td>0.551765</td>\n",
       "      <td>0.017635</td>\n",
       "      <td>0.766628</td>\n",
       "      <td>True</td>\n",
       "      <td>False</td>\n",
       "    </tr>\n",
       "    <tr>\n",
       "      <th>6</th>\n",
       "      <td>pre-xception+gender</td>\n",
       "      <td>0.600951</td>\n",
       "      <td>0.020432</td>\n",
       "      <td>0.729614</td>\n",
       "      <td>True</td>\n",
       "      <td>False</td>\n",
       "    </tr>\n",
       "    <tr>\n",
       "      <th>7</th>\n",
       "      <td>tjnet-gender2</td>\n",
       "      <td>0.407535</td>\n",
       "      <td>0.009509</td>\n",
       "      <td>0.874158</td>\n",
       "      <td>True</td>\n",
       "      <td>False</td>\n",
       "    </tr>\n",
       "    <tr>\n",
       "      <th>8</th>\n",
       "      <td>tjnet_kaggle.h5</td>\n",
       "      <td>0.929146</td>\n",
       "      <td>0.011265</td>\n",
       "      <td>0.870070</td>\n",
       "      <td>True</td>\n",
       "      <td>False</td>\n",
       "    </tr>\n",
       "  </tbody>\n",
       "</table>\n",
       "</div>"
      ],
      "text/plain": [
       "                 model       mae        mse    r2_score    roi  class\n",
       "0           xception++  1.540548  17.096090 -180.695600  False  False\n",
       "1               vgg-ba  1.160614   0.073136   -0.303073  False  False\n",
       "2               vgg-ba  0.670392   0.025254   -0.570250   True  False\n",
       "3           xception++  0.557815   0.016407   -0.361841   True  False\n",
       "4       pre xception++  0.639215   0.022091   -1.055396   True  False\n",
       "5      xception+gender  0.551765   0.017635    0.766628   True  False\n",
       "6  pre-xception+gender  0.600951   0.020432    0.729614   True  False\n",
       "7        tjnet-gender2  0.407535   0.009509    0.874158   True  False\n",
       "8      tjnet_kaggle.h5  0.929146   0.011265    0.870070   True  False"
      ]
     },
     "execution_count": 24,
     "metadata": {},
     "output_type": "execute_result"
    }
   ],
   "source": [
    "result_df = pd.read_csv(\"result.csv\")\n",
    "result_df.loc[len(result_df)]=(model_weight,mae/12,mse/12,r2,True,False)\n",
    "result_df.to_csv(\"result.csv\",index=False)\n",
    "result_df"
   ]
  },
  {
   "cell_type": "code",
   "execution_count": null,
   "metadata": {},
   "outputs": [],
   "source": []
  }
 ],
 "metadata": {
  "kernelspec": {
   "display_name": "Python 3",
   "language": "python",
   "name": "python3"
  },
  "language_info": {
   "codemirror_mode": {
    "name": "ipython",
    "version": 3
   },
   "file_extension": ".py",
   "mimetype": "text/x-python",
   "name": "python",
   "nbconvert_exporter": "python",
   "pygments_lexer": "ipython3",
   "version": "3.6.8"
  },
  "toc": {
   "base_numbering": 1,
   "nav_menu": {},
   "number_sections": true,
   "sideBar": true,
   "skip_h1_title": false,
   "title_cell": "Table of Contents",
   "title_sidebar": "Contents",
   "toc_cell": false,
   "toc_position": {},
   "toc_section_display": true,
   "toc_window_display": false
  },
  "varInspector": {
   "cols": {
    "lenName": 16,
    "lenType": 16,
    "lenVar": 40
   },
   "kernels_config": {
    "python": {
     "delete_cmd_postfix": "",
     "delete_cmd_prefix": "del ",
     "library": "var_list.py",
     "varRefreshCmd": "print(var_dic_list())"
    },
    "r": {
     "delete_cmd_postfix": ") ",
     "delete_cmd_prefix": "rm(",
     "library": "var_list.r",
     "varRefreshCmd": "cat(var_dic_list()) "
    }
   },
   "types_to_exclude": [
    "module",
    "function",
    "builtin_function_or_method",
    "instance",
    "_Feature"
   ],
   "window_display": false
  }
 },
 "nbformat": 4,
 "nbformat_minor": 2
}
