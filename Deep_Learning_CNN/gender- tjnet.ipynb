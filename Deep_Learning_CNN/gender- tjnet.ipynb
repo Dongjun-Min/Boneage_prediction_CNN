{
 "cells": [
  {
   "cell_type": "code",
   "execution_count": 1,
   "metadata": {},
   "outputs": [],
   "source": [
    "import cv2\n",
    "import pandas as pd\n",
    "import numpy as np\n",
    "import matplotlib.pyplot as plt\n",
    "import tensorflow as tf\n",
    "import os\n",
    "\n",
    "%matplotlib inline\n",
    "def show(img):   \n",
    "    cv2.imshow('img',img)\n",
    "    cv2.waitKey(0)\n",
    "    cv2.destroyAllWindows()\n",
    "\n",
    "import matplotlib.pyplot as plt\n",
    "%matplotlib inline\n",
    "\n",
    "plt.style.use('dark_background')\n"
   ]
  },
  {
   "cell_type": "markdown",
   "metadata": {},
   "source": [
    "## tensor 파편화를 방지하기 위한 메모리 할당"
   ]
  },
  {
   "cell_type": "code",
   "execution_count": 2,
   "metadata": {},
   "outputs": [
    {
     "name": "stdout",
     "output_type": "stream",
     "text": [
      "Tue Aug  4 13:53:56 2020       \n",
      "+-----------------------------------------------------------------------------+\n",
      "| NVIDIA-SMI 418.67       Driver Version: 418.67       CUDA Version: 10.1     |\n",
      "|-------------------------------+----------------------+----------------------+\n",
      "| GPU  Name        Persistence-M| Bus-Id        Disp.A | Volatile Uncorr. ECC |\n",
      "| Fan  Temp  Perf  Pwr:Usage/Cap|         Memory-Usage | GPU-Util  Compute M. |\n",
      "|===============================+======================+======================|\n",
      "|   0  Tesla V100-SXM2...  On   | 00000000:00:05.0 Off |                  Off |\n",
      "| N/A   34C    P0    54W / 300W |    317MiB / 32480MiB |      4%      Default |\n",
      "+-------------------------------+----------------------+----------------------+\n",
      "|   1  Tesla V100-SXM2...  On   | 00000000:00:06.0 Off |                  Off |\n",
      "| N/A   33C    P0    53W / 300W |    317MiB / 32480MiB |      9%      Default |\n",
      "+-------------------------------+----------------------+----------------------+\n",
      "                                                                               \n",
      "+-----------------------------------------------------------------------------+\n",
      "| Processes:                                                       GPU Memory |\n",
      "|  GPU       PID   Type   Process name                             Usage      |\n",
      "|=============================================================================|\n",
      "|    0      8918      C   /home/centos/anaconda3/bin/python            307MiB |\n",
      "|    1      8918      C   /home/centos/anaconda3/bin/python            307MiB |\n",
      "+-----------------------------------------------------------------------------+\n",
      "\n"
     ]
    }
   ],
   "source": [
    "from tensorflow.compat.v1 import ConfigProto,InteractiveSession\n",
    "config = ConfigProto()\n",
    "config.gpu_options.allow_growth = True\n",
    "session = InteractiveSession(config = config)\n",
    "\n",
    "print(os.popen('nvidia-smi').read())"
   ]
  },
  {
   "cell_type": "markdown",
   "metadata": {},
   "source": [
    "## 전처리된 이미지를 불러오기 위해 Dataframe을 전처리\n",
    "- 년으로 되어있는 골연령을 월로 변환후 정규화\n",
    "- data가 작기 때문에 train_test_split을 8:2로 진행"
   ]
  },
  {
   "cell_type": "code",
   "execution_count": 33,
   "metadata": {},
   "outputs": [],
   "source": [
    "\n",
    "img_size = 251\n",
    "l = 391\n",
    "model_weight = \"tjnet_roi1.h5\"\n",
    "\n",
    "df_path = \"..\"\n",
    "img_path = \"20200728_Carpal Bone ROI_filter\"\n",
    "file_name = np.array([\"{0:03d}_05_02.jpg\".format(i+1) for i in range(l)])\n",
    "\n",
    "df = pd.read_excel(df_path+\"/BA_Total.xlsx\")\n",
    "imgs = np.array([cv2.imread(img_path+\"/\"+file_name[i]) for i in range(l)])\n",
    "df['boneage'] = df.BA*12\n",
    "ba_mean = df.boneage.mean()\n",
    "ba_std = df.boneage.std()\n",
    "df[\"BA_z\"] = (df.boneage-ba_mean)/ba_std\n",
    "df.filename = file_name\n",
    "df[\"gender\"] = df[\"성별\"]%2\n",
    "\n",
    "from sklearn.model_selection import train_test_split\n",
    "\n",
    "train_df, val_df = train_test_split(df, test_size = 0.2, random_state = 0)"
   ]
  },
  {
   "cell_type": "markdown",
   "metadata": {},
   "source": [
    "## 사용자 함수\n",
    "- multi_generator : input_data가  gender와 image 두가지이므로 generator를 통해 train_set 생성\n",
    "- plot_it : 학습후 학습 진행상황을 보기위한 함수\n",
    "- mae_in_months : 현재 output이 정규화 되어있는 월이므로 보기 편하도록 변환해주는 metrics"
   ]
  },
  {
   "cell_type": "code",
   "execution_count": 34,
   "metadata": {},
   "outputs": [],
   "source": [
    "def multi_generator(df):\n",
    "    gender_in = np.array(df.gender)\n",
    "    img_in = []\n",
    "    age = np.array(df.BA_z)\n",
    "    \n",
    "    for file_path in df.filename:\n",
    "        img = cv2.imread(img_path+'/'+file_path)\n",
    "        small = cv2.resize(img, (img_size,img_size),cv2.INTER_AREA)\n",
    "        img_in.append(small)\n",
    "        \n",
    "    img_in = np.array(img_in)\n",
    "        \n",
    "    \n",
    "    return [gender_in,img_in],age"
   ]
  },
  {
   "cell_type": "code",
   "execution_count": 35,
   "metadata": {},
   "outputs": [],
   "source": [
    "# process시각화 및 손실함수\n",
    "\n",
    "def plot_it(history):\n",
    "    '''function to plot training and validation error'''\n",
    "    fig, ax = plt.subplots( figsize=(20,10))\n",
    "    ax.plot(history.history['mae_in_months'])\n",
    "    ax.plot(history.history['val_mae_in_months'])\n",
    "    plt.title('Model Error')\n",
    "    plt.ylabel('error')\n",
    "    plt.xlabel('Epoch')\n",
    "    plt.legend(['Train', 'Val'], loc='upper right')\n",
    "    ax.grid(color='black')\n",
    "    plt.show()\n",
    "\n",
    "from tensorflow.keras.metrics import mean_absolute_error\n",
    "\n",
    "def mae_in_months(x_p, y_p):\n",
    "    '''function to return mae in months'''\n",
    "    return mean_absolute_error((ba_std*x_p + ba_mean), (ba_std*y_p + ba_mean)) "
   ]
  },
  {
   "cell_type": "markdown",
   "metadata": {},
   "source": [
    "## 모델 생성\n",
    "- tjnet을 기반으로 모델 생성"
   ]
  },
  {
   "cell_type": "code",
   "execution_count": 36,
   "metadata": {},
   "outputs": [],
   "source": [
    "from tensorflow.keras.models import *\n",
    "from tensorflow.keras.layers import *\n",
    "from tensorflow.keras.optimizers import *\n",
    "from tensorflow.keras.callbacks import *\n"
   ]
  },
  {
   "cell_type": "code",
   "execution_count": 37,
   "metadata": {},
   "outputs": [],
   "source": [
    "i_input = Input(shape = (img_size,img_size,3))\n",
    "#block 1\n",
    "conv1 = Conv2D(32,3,activation = 'relu')(i_input)\n",
    "conv2 = Conv2D(32,3,activation = 'relu')(conv1)\n",
    "conv3 = Conv2D(64,3,activation = 'relu',padding='same')(conv2)\n",
    "pool1 = MaxPool2D(pool_size=(2,2))(conv3)\n",
    "#block 2\n",
    "conv4 = Conv2D(60,1,activation = 'relu')(pool1)\n",
    "conv5 = Conv2D(192,3,activation = 'relu')(conv4)\n",
    "pool2 = MaxPool2D(pool_size=(2,2))(conv5)\n",
    "#block 3\n",
    "conv6 = Conv2D(512,3,activation = 'relu')(pool2)\n",
    "pool3 = MaxPool2D(pool_size=(2,2))(conv6)\n",
    "#block 4\n",
    "conv7 = Conv2D(1024,3,activation = 'relu',padding='same')(pool3)\n",
    "pool4 = MaxPool2D(pool_size=(2,2))(conv7)\n",
    "#block 5\n",
    "conv8 = Conv2D(2048,3,activation = 'relu')(pool4)\n",
    "conv9 = Conv2D(2048,5,activation = 'relu')(conv8)\n",
    "pool5 = AveragePooling2D(pool_size=(8,8))(conv9)\n",
    "#flat\n",
    "i_output = Flatten()( pool5)\n",
    "# i_output = Dense(1024)(flat)\n",
    "\n",
    "i_model = Model(inputs = i_input, outputs = i_output)\n"
   ]
  },
  {
   "cell_type": "code",
   "execution_count": 38,
   "metadata": {},
   "outputs": [],
   "source": [
    "g_input = Input(shape = (1,))\n",
    "g_output = Dense(64,activation = 'relu')(g_input)\n",
    "\n",
    "g_model = Model(inputs = g_input,outputs = g_output)\n",
    "\n",
    "\n",
    "\n",
    "\n",
    "con = concatenate([g_model.output, i_model.output])\n",
    "dense1 = Dense(1024,activation='relu')(con)\n",
    "# batch = BatchNormalization()(dense1)\n",
    "# drop = Dropout(0.5)(dense1)\n",
    "dense2 = Dense(512,activation='relu')(dense1)\n",
    "# dense3 = Dense(10,activation='softmax')(dense2)\n",
    "model_out = Dense(1,activation = \"linear\")(dense2)\n",
    "\n",
    "model = Model([g_input,i_input],model_out)\n",
    "model.compile(loss ='mse', optimizer= 'adam', metrics = [mae_in_months] )"
   ]
  },
  {
   "cell_type": "code",
   "execution_count": 39,
   "metadata": {
    "scrolled": true
   },
   "outputs": [
    {
     "name": "stdout",
     "output_type": "stream",
     "text": [
      "Model: \"model_13\"\n",
      "__________________________________________________________________________________________________\n",
      "Layer (type)                    Output Shape         Param #     Connected to                     \n",
      "==================================================================================================\n",
      "input_8 (InputLayer)            [(None, 251, 251, 3) 0                                            \n",
      "__________________________________________________________________________________________________\n",
      "conv2d_27 (Conv2D)              (None, 249, 249, 32) 896         input_8[0][0]                    \n",
      "__________________________________________________________________________________________________\n",
      "conv2d_28 (Conv2D)              (None, 247, 247, 32) 9248        conv2d_27[0][0]                  \n",
      "__________________________________________________________________________________________________\n",
      "conv2d_29 (Conv2D)              (None, 247, 247, 64) 18496       conv2d_28[0][0]                  \n",
      "__________________________________________________________________________________________________\n",
      "max_pooling2d_12 (MaxPooling2D) (None, 123, 123, 64) 0           conv2d_29[0][0]                  \n",
      "__________________________________________________________________________________________________\n",
      "conv2d_30 (Conv2D)              (None, 123, 123, 60) 3900        max_pooling2d_12[0][0]           \n",
      "__________________________________________________________________________________________________\n",
      "conv2d_31 (Conv2D)              (None, 121, 121, 192 103872      conv2d_30[0][0]                  \n",
      "__________________________________________________________________________________________________\n",
      "max_pooling2d_13 (MaxPooling2D) (None, 60, 60, 192)  0           conv2d_31[0][0]                  \n",
      "__________________________________________________________________________________________________\n",
      "conv2d_32 (Conv2D)              (None, 58, 58, 512)  885248      max_pooling2d_13[0][0]           \n",
      "__________________________________________________________________________________________________\n",
      "max_pooling2d_14 (MaxPooling2D) (None, 29, 29, 512)  0           conv2d_32[0][0]                  \n",
      "__________________________________________________________________________________________________\n",
      "conv2d_33 (Conv2D)              (None, 29, 29, 1024) 4719616     max_pooling2d_14[0][0]           \n",
      "__________________________________________________________________________________________________\n",
      "max_pooling2d_15 (MaxPooling2D) (None, 14, 14, 1024) 0           conv2d_33[0][0]                  \n",
      "__________________________________________________________________________________________________\n",
      "conv2d_34 (Conv2D)              (None, 12, 12, 2048) 18876416    max_pooling2d_15[0][0]           \n",
      "__________________________________________________________________________________________________\n",
      "conv2d_35 (Conv2D)              (None, 8, 8, 2048)   104859648   conv2d_34[0][0]                  \n",
      "__________________________________________________________________________________________________\n",
      "input_9 (InputLayer)            [(None, 1)]          0                                            \n",
      "__________________________________________________________________________________________________\n",
      "average_pooling2d_3 (AveragePoo (None, 1, 1, 2048)   0           conv2d_35[0][0]                  \n",
      "__________________________________________________________________________________________________\n",
      "dense_16 (Dense)                (None, 64)           128         input_9[0][0]                    \n",
      "__________________________________________________________________________________________________\n",
      "flatten_3 (Flatten)             (None, 2048)         0           average_pooling2d_3[0][0]        \n",
      "__________________________________________________________________________________________________\n",
      "concatenate_4 (Concatenate)     (None, 2112)         0           dense_16[0][0]                   \n",
      "                                                                 flatten_3[0][0]                  \n",
      "__________________________________________________________________________________________________\n",
      "dense_17 (Dense)                (None, 1024)         2163712     concatenate_4[0][0]              \n",
      "__________________________________________________________________________________________________\n",
      "dense_18 (Dense)                (None, 512)          524800      dense_17[0][0]                   \n",
      "__________________________________________________________________________________________________\n",
      "dense_19 (Dense)                (None, 1)            513         dense_18[0][0]                   \n",
      "==================================================================================================\n",
      "Total params: 132,166,493\n",
      "Trainable params: 132,166,493\n",
      "Non-trainable params: 0\n",
      "__________________________________________________________________________________________________\n"
     ]
    }
   ],
   "source": [
    "model.summary()"
   ]
  },
  {
   "cell_type": "code",
   "execution_count": 40,
   "metadata": {},
   "outputs": [],
   "source": [
    "train_X,train_y = multi_generator(train_df)\n",
    "val_X, val_y = multi_generator(val_df)"
   ]
  },
  {
   "cell_type": "markdown",
   "metadata": {},
   "source": [
    "## 모델 학습\n",
    "- validation_set을 이용해 과적합되는 것을 방지"
   ]
  },
  {
   "cell_type": "code",
   "execution_count": 44,
   "metadata": {},
   "outputs": [
    {
     "name": "stdout",
     "output_type": "stream",
     "text": [
      "Epoch 1/100\n",
      "10/10 [==============================] - 8s 821ms/step - loss: 16000320.0000 - mae_in_months: 22657.3613 - val_loss: 1.1846 - val_mae_in_months: 15.8546 - lr: 0.0010\n",
      "Epoch 2/100\n",
      "10/10 [==============================] - 3s 258ms/step - loss: 1.0640 - mae_in_months: 15.0704 - val_loss: 1.1934 - val_mae_in_months: 15.8646 - lr: 0.0010\n",
      "Epoch 3/100\n",
      "10/10 [==============================] - 11s 1s/step - loss: 0.9531 - mae_in_months: 14.1541 - val_loss: 0.8399 - val_mae_in_months: 13.1067 - lr: 0.0010\n",
      "Epoch 4/100\n",
      "10/10 [==============================] - 10s 1s/step - loss: 0.7257 - mae_in_months: 12.2496 - val_loss: 0.6664 - val_mae_in_months: 11.7076 - lr: 0.0010\n",
      "Epoch 5/100\n",
      "10/10 [==============================] - 3s 260ms/step - loss: 0.5504 - mae_in_months: 10.8071 - val_loss: 0.7651 - val_mae_in_months: 12.7825 - lr: 0.0010\n",
      "Epoch 6/100\n",
      "10/10 [==============================] - 10s 1s/step - loss: 0.5579 - mae_in_months: 11.0793 - val_loss: 0.4841 - val_mae_in_months: 10.0777 - lr: 0.0010\n",
      "Epoch 7/100\n",
      "10/10 [==============================] - 10s 977ms/step - loss: 0.4993 - mae_in_months: 10.3457 - val_loss: 0.3501 - val_mae_in_months: 8.4546 - lr: 0.0010\n",
      "Epoch 8/100\n",
      "10/10 [==============================] - 10s 1s/step - loss: 0.4018 - mae_in_months: 9.2206 - val_loss: 0.3312 - val_mae_in_months: 8.3536 - lr: 0.0010\n",
      "Epoch 9/100\n",
      "10/10 [==============================] - 6s 565ms/step - loss: 0.3756 - mae_in_months: 8.9441 - val_loss: 0.3191 - val_mae_in_months: 8.3677 - lr: 0.0010\n",
      "Epoch 10/100\n",
      "10/10 [==============================] - 13s 1s/step - loss: 0.2987 - mae_in_months: 8.0629 - val_loss: 0.2461 - val_mae_in_months: 7.0415 - lr: 0.0010\n",
      "Epoch 11/100\n",
      "10/10 [==============================] - 10s 970ms/step - loss: 0.2851 - mae_in_months: 7.7469 - val_loss: 0.2379 - val_mae_in_months: 6.9788 - lr: 0.0010\n",
      "Epoch 12/100\n",
      "10/10 [==============================] - 3s 258ms/step - loss: 0.2719 - mae_in_months: 7.5637 - val_loss: 0.2819 - val_mae_in_months: 7.9790 - lr: 0.0010\n",
      "Epoch 13/100\n",
      "10/10 [==============================] - 3s 258ms/step - loss: 0.3568 - mae_in_months: 8.4339 - val_loss: 0.2662 - val_mae_in_months: 7.4973 - lr: 0.0010\n",
      "Epoch 14/100\n",
      "10/10 [==============================] - 9s 927ms/step - loss: 0.3663 - mae_in_months: 8.5938 - val_loss: 0.1868 - val_mae_in_months: 6.2773 - lr: 0.0010\n",
      "Epoch 15/100\n",
      "10/10 [==============================] - 3s 257ms/step - loss: 0.2604 - mae_in_months: 7.3365 - val_loss: 0.2160 - val_mae_in_months: 6.6418 - lr: 0.0010\n",
      "Epoch 16/100\n",
      "10/10 [==============================] - 3s 258ms/step - loss: 0.2209 - mae_in_months: 6.7100 - val_loss: 0.1943 - val_mae_in_months: 6.5599 - lr: 0.0010\n",
      "Epoch 17/100\n",
      "10/10 [==============================] - 10s 957ms/step - loss: 0.1751 - mae_in_months: 5.9381 - val_loss: 0.1581 - val_mae_in_months: 5.8448 - lr: 0.0010\n",
      "Epoch 18/100\n",
      "10/10 [==============================] - 3s 260ms/step - loss: 0.1488 - mae_in_months: 5.5010 - val_loss: 0.1722 - val_mae_in_months: 6.0125 - lr: 0.0010\n",
      "Epoch 19/100\n",
      "10/10 [==============================] - 10s 1s/step - loss: 0.1310 - mae_in_months: 4.9328 - val_loss: 0.1475 - val_mae_in_months: 5.5624 - lr: 0.0010\n",
      "Epoch 20/100\n",
      "10/10 [==============================] - 9s 932ms/step - loss: 0.1041 - mae_in_months: 4.4946 - val_loss: 0.1450 - val_mae_in_months: 5.6449 - lr: 0.0010\n",
      "Epoch 21/100\n",
      "10/10 [==============================] - 3s 260ms/step - loss: 0.0891 - mae_in_months: 4.2139 - val_loss: 0.1666 - val_mae_in_months: 5.9152 - lr: 0.0010\n",
      "Epoch 22/100\n",
      "10/10 [==============================] - 3s 260ms/step - loss: 0.0844 - mae_in_months: 4.0240 - val_loss: 0.1728 - val_mae_in_months: 6.0897 - lr: 0.0010\n",
      "Epoch 23/100\n",
      "10/10 [==============================] - 13s 1s/step - loss: 0.0650 - mae_in_months: 3.6355 - val_loss: 0.1401 - val_mae_in_months: 5.4341 - lr: 0.0010\n",
      "Epoch 24/100\n",
      "10/10 [==============================] - 9s 899ms/step - loss: 0.0571 - mae_in_months: 3.3888 - val_loss: 0.1249 - val_mae_in_months: 5.0361 - lr: 0.0010\n",
      "Epoch 25/100\n",
      "10/10 [==============================] - 3s 258ms/step - loss: 0.0397 - mae_in_months: 2.7993 - val_loss: 0.1478 - val_mae_in_months: 5.5423 - lr: 0.0010\n",
      "Epoch 26/100\n",
      "10/10 [==============================] - 3s 258ms/step - loss: 0.0446 - mae_in_months: 3.0138 - val_loss: 0.1488 - val_mae_in_months: 5.5816 - lr: 0.0010\n",
      "Epoch 27/100\n",
      "10/10 [==============================] - 3s 258ms/step - loss: 0.0722 - mae_in_months: 3.8812 - val_loss: 0.1724 - val_mae_in_months: 5.9955 - lr: 0.0010\n",
      "Epoch 28/100\n",
      "10/10 [==============================] - 6s 576ms/step - loss: 0.0406 - mae_in_months: 2.8031 - val_loss: 0.1200 - val_mae_in_months: 5.0905 - lr: 0.0010\n",
      "Epoch 29/100\n",
      "10/10 [==============================] - 3s 260ms/step - loss: 0.0297 - mae_in_months: 2.4244 - val_loss: 0.1288 - val_mae_in_months: 5.1162 - lr: 0.0010\n",
      "Epoch 30/100\n",
      "10/10 [==============================] - 11s 1s/step - loss: 0.0261 - mae_in_months: 2.2692 - val_loss: 0.1145 - val_mae_in_months: 4.8534 - lr: 0.0010\n",
      "Epoch 31/100\n",
      "10/10 [==============================] - 3s 260ms/step - loss: 0.0192 - mae_in_months: 1.9267 - val_loss: 0.1221 - val_mae_in_months: 4.9829 - lr: 0.0010\n",
      "Epoch 32/100\n",
      "10/10 [==============================] - 3s 260ms/step - loss: 0.0136 - mae_in_months: 1.6334 - val_loss: 0.1218 - val_mae_in_months: 5.0245 - lr: 0.0010\n",
      "Epoch 33/100\n",
      "10/10 [==============================] - 3s 260ms/step - loss: 0.0077 - mae_in_months: 1.1876 - val_loss: 0.1249 - val_mae_in_months: 5.0522 - lr: 0.0010\n",
      "Epoch 34/100\n",
      "10/10 [==============================] - 3s 260ms/step - loss: 0.0104 - mae_in_months: 1.5012 - val_loss: 0.1240 - val_mae_in_months: 5.0002 - lr: 0.0010\n",
      "Epoch 35/100\n",
      "10/10 [==============================] - 3s 259ms/step - loss: 0.0152 - mae_in_months: 1.8431 - val_loss: 0.1239 - val_mae_in_months: 4.9845 - lr: 0.0010\n",
      "Epoch 36/100\n",
      "10/10 [==============================] - 3s 260ms/step - loss: 0.0109 - mae_in_months: 1.5261 - val_loss: 0.1320 - val_mae_in_months: 5.1836 - lr: 0.0010\n",
      "Epoch 37/100\n",
      "10/10 [==============================] - 3s 259ms/step - loss: 0.0083 - mae_in_months: 1.3484 - val_loss: 0.1341 - val_mae_in_months: 5.2485 - lr: 0.0010\n",
      "Epoch 38/100\n",
      "10/10 [==============================] - 3s 260ms/step - loss: 0.0102 - mae_in_months: 1.5160 - val_loss: 0.1261 - val_mae_in_months: 5.0263 - lr: 0.0010\n",
      "Epoch 39/100\n",
      "10/10 [==============================] - 3s 260ms/step - loss: 0.0035 - mae_in_months: 0.8224 - val_loss: 0.1219 - val_mae_in_months: 5.0227 - lr: 0.0010\n",
      "Epoch 40/100\n",
      "10/10 [==============================] - 3s 259ms/step - loss: 0.0021 - mae_in_months: 0.6054 - val_loss: 0.1244 - val_mae_in_months: 5.0611 - lr: 0.0010\n"
     ]
    },
    {
     "data": {
      "image/png": "[encoded data removed]",
      "text/plain": [
       "<Figure size 1440x720 with 1 Axes>"
      ]
     },
     "metadata": {},
     "output_type": "display_data"
    }
   ],
   "source": [
    "epochs = 100\n",
    "#early stopping\n",
    "early_stopping = EarlyStopping(monitor='val_loss',\n",
    "                              min_delta=0,\n",
    "                              patience= 10,\n",
    "                              verbose=0, mode='auto')\n",
    "\n",
    "mc = ModelCheckpoint(model_weight, monitor='val_loss', mode='min', save_best_only=True)\n",
    "rLR = ReduceLROnPlateau(\n",
    "    monitor='val_loss',  # 검증 손실을 기준으로 callback이 호출됩니다\n",
    "    factor=0.5,          # callback 호출시 학습률을 1/2로 줄입니다\n",
    "    patience=10,         # epoch 10 동안 개선되지 않으면 callback이 호출됩니다\n",
    ")\n",
    "\n",
    "callbacks = [early_stopping,mc,rLR]\n",
    "\n",
    "\n",
    "#fit model\n",
    "history = model.fit(train_X,train_y,\n",
    "                    validation_data = (val_X,val_y),\n",
    "                    epochs = epochs,\n",
    "                    callbacks= callbacks)\n",
    "plot_it(history)"
   ]
  },
  {
   "cell_type": "markdown",
   "metadata": {},
   "source": [
    "## Model_evlauation"
   ]
  },
  {
   "cell_type": "code",
   "execution_count": 28,
   "metadata": {},
   "outputs": [],
   "source": [
    "model.load_weights(model_weight)"
   ]
  },
  {
   "cell_type": "code",
   "execution_count": 29,
   "metadata": {},
   "outputs": [
    {
     "name": "stdout",
     "output_type": "stream",
     "text": [
      "3/3 [==============================] - 0s 51ms/step - loss: 0.1216 - mae_in_months: 5.0177\n",
      "mae_year : 0.4181406497955322, mse : 0.010136021922032038,r2_score : 0.8658634600763864\n"
     ]
    }
   ],
   "source": [
    "pred = model.predict(val_X)*ba_std+ba_mean\n",
    "mse, mae = model.evaluate(val_X,val_y)\n",
    "\n",
    "from sklearn.metrics import r2_score\n",
    "r2 = r2_score(val_df.boneage,pred)\n",
    "print(f\"mae_year : {mae/12}, mse : {mse/12},r2_score : {r2}\" )"
   ]
  },
  {
   "cell_type": "code",
   "execution_count": 42,
   "metadata": {},
   "outputs": [
    {
     "data": {
      "text/plain": [
       "(0.4012658227848102, 0.407534607754478)"
      ]
     },
     "execution_count": 42,
     "metadata": {},
     "output_type": "execute_result"
    }
   ],
   "source": [
    "from sklearn.metrics import mean_absolute_error\n",
    "v = val_y*ba_std+ba_mean\n",
    "mean_absolute_error(np.round(pred),v)/12,mean_absolute_error(pred,v)/12"
   ]
  },
  {
   "cell_type": "code",
   "execution_count": 34,
   "metadata": {},
   "outputs": [
    {
     "data": {
      "text/html": [
       "<div>\n",
       "<style scoped>\n",
       "    .dataframe tbody tr th:only-of-type {\n",
       "        vertical-align: middle;\n",
       "    }\n",
       "\n",
       "    .dataframe tbody tr th {\n",
       "        vertical-align: top;\n",
       "    }\n",
       "\n",
       "    .dataframe thead th {\n",
       "        text-align: right;\n",
       "    }\n",
       "</style>\n",
       "<table border=\"1\" class=\"dataframe\">\n",
       "  <thead>\n",
       "    <tr style=\"text-align: right;\">\n",
       "      <th></th>\n",
       "      <th>model</th>\n",
       "      <th>mae</th>\n",
       "      <th>mse</th>\n",
       "      <th>r2_score</th>\n",
       "      <th>roi</th>\n",
       "      <th>class</th>\n",
       "    </tr>\n",
       "  </thead>\n",
       "  <tbody>\n",
       "    <tr>\n",
       "      <th>0</th>\n",
       "      <td>xception++</td>\n",
       "      <td>1.540548</td>\n",
       "      <td>17.096090</td>\n",
       "      <td>-180.695600</td>\n",
       "      <td>False</td>\n",
       "      <td>False</td>\n",
       "    </tr>\n",
       "    <tr>\n",
       "      <th>1</th>\n",
       "      <td>vgg-ba</td>\n",
       "      <td>1.160614</td>\n",
       "      <td>0.073136</td>\n",
       "      <td>-0.303073</td>\n",
       "      <td>False</td>\n",
       "      <td>False</td>\n",
       "    </tr>\n",
       "    <tr>\n",
       "      <th>2</th>\n",
       "      <td>vgg-ba</td>\n",
       "      <td>0.670392</td>\n",
       "      <td>0.025254</td>\n",
       "      <td>-0.570250</td>\n",
       "      <td>True</td>\n",
       "      <td>False</td>\n",
       "    </tr>\n",
       "    <tr>\n",
       "      <th>3</th>\n",
       "      <td>xception++</td>\n",
       "      <td>0.557815</td>\n",
       "      <td>0.016407</td>\n",
       "      <td>-0.361841</td>\n",
       "      <td>True</td>\n",
       "      <td>False</td>\n",
       "    </tr>\n",
       "    <tr>\n",
       "      <th>4</th>\n",
       "      <td>pre xception++</td>\n",
       "      <td>0.639215</td>\n",
       "      <td>0.022091</td>\n",
       "      <td>-1.055396</td>\n",
       "      <td>True</td>\n",
       "      <td>False</td>\n",
       "    </tr>\n",
       "    <tr>\n",
       "      <th>5</th>\n",
       "      <td>xception+gender</td>\n",
       "      <td>0.551765</td>\n",
       "      <td>0.017635</td>\n",
       "      <td>0.766628</td>\n",
       "      <td>True</td>\n",
       "      <td>False</td>\n",
       "    </tr>\n",
       "    <tr>\n",
       "      <th>6</th>\n",
       "      <td>pre-xception+gender</td>\n",
       "      <td>0.600951</td>\n",
       "      <td>0.020432</td>\n",
       "      <td>0.729614</td>\n",
       "      <td>True</td>\n",
       "      <td>False</td>\n",
       "    </tr>\n",
       "    <tr>\n",
       "      <th>7</th>\n",
       "      <td>tjnet-gender2</td>\n",
       "      <td>0.407535</td>\n",
       "      <td>0.009509</td>\n",
       "      <td>0.874158</td>\n",
       "      <td>True</td>\n",
       "      <td>False</td>\n",
       "    </tr>\n",
       "  </tbody>\n",
       "</table>\n",
       "</div>"
      ],
      "text/plain": [
       "                 model       mae        mse    r2_score    roi  class\n",
       "0           xception++  1.540548  17.096090 -180.695600  False  False\n",
       "1               vgg-ba  1.160614   0.073136   -0.303073  False  False\n",
       "2               vgg-ba  0.670392   0.025254   -0.570250   True  False\n",
       "3           xception++  0.557815   0.016407   -0.361841   True  False\n",
       "4       pre xception++  0.639215   0.022091   -1.055396   True  False\n",
       "5      xception+gender  0.551765   0.017635    0.766628   True  False\n",
       "6  pre-xception+gender  0.600951   0.020432    0.729614   True  False\n",
       "7        tjnet-gender2  0.407535   0.009509    0.874158   True  False"
      ]
     },
     "execution_count": 34,
     "metadata": {},
     "output_type": "execute_result"
    }
   ],
   "source": [
    "result_df = pd.read_csv(\"result.csv\")\n",
    "result_df.loc[len(result_df)]=(model_weight,mae/12,mse/12,r2,True,False)\n",
    "result_df.to_csv(\"result.csv\",index=False)\n",
    "result_df"
   ]
  },
  {
   "cell_type": "code",
   "execution_count": null,
   "metadata": {},
   "outputs": [],
   "source": []
  }
 ],
 "metadata": {
  "kernelspec": {
   "display_name": "Python 3",
   "language": "python",
   "name": "python3"
  },
  "language_info": {
   "codemirror_mode": {
    "name": "ipython",
    "version": 3
   },
   "file_extension": ".py",
   "mimetype": "text/x-python",
   "name": "python",
   "nbconvert_exporter": "python",
   "pygments_lexer": "ipython3",
   "version": "3.7.4"
  },
  "toc": {
   "base_numbering": 1,
   "nav_menu": {},
   "number_sections": true,
   "sideBar": true,
   "skip_h1_title": false,
   "title_cell": "Table of Contents",
   "title_sidebar": "Contents",
   "toc_cell": false,
   "toc_position": {},
   "toc_section_display": true,
   "toc_window_display": false
  },
  "varInspector": {
   "cols": {
    "lenName": 16,
    "lenType": 16,
    "lenVar": 40
   },
   "kernels_config": {
    "python": {
     "delete_cmd_postfix": "",
     "delete_cmd_prefix": "del ",
     "library": "var_list.py",
     "varRefreshCmd": "print(var_dic_list())"
    },
    "r": {
     "delete_cmd_postfix": ") ",
     "delete_cmd_prefix": "rm(",
     "library": "var_list.r",
     "varRefreshCmd": "cat(var_dic_list()) "
    }
   },
   "types_to_exclude": [
    "module",
    "function",
    "builtin_function_or_method",
    "instance",
    "_Feature"
   ],
   "window_display": false
  }
 },
 "nbformat": 4,
 "nbformat_minor": 2
}
